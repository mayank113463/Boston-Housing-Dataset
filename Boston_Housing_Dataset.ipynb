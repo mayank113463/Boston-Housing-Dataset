{
  "nbformat": 4,
  "nbformat_minor": 0,
  "metadata": {
    "colab": {
      "name": "Boston Housing Dataset.ipynb",
      "provenance": [],
      "collapsed_sections": []
    },
    "kernelspec": {
      "name": "python3",
      "display_name": "Python 3"
    }
  },
  "cells": [
    {
      "cell_type": "markdown",
      "metadata": {
        "id": "Oq9OIkpjU3hr"
      },
      "source": [
        "## Decision trees are generally used for classification problems. But it can also be used for regression problems by grouping the dependent variable (continuous) into buckets. <code>DecisionTreeRegressor()</code> from the scikit-learn library helps us to use decision trees for regression problems. The implementation is similar to <code>DecisionTreeClassifier()</code>.\n",
        "\n",
        "# <b> The Boston Housing Dataset is a derived from information collected by the U.S. Census Service concerning housing in the area of Boston MA. The following describes the dataset columns:\n",
        "\n",
        "* CRIM - per capita crime rate by town\n",
        "* ZN - proportion of residential land zoned for lots over 25,000 sq.ft.\n",
        "* INDUS - proportion of non-retail business acres per town.\n",
        "* CHAS - Charles River dummy variable (1 if tract bounds river; 0 otherwise)\n",
        "* NOX - nitric oxides concentration (parts per 10 million)\n",
        "* RM - average number of rooms per dwelling\n",
        "* AGE - proportion of owner-occupied units built prior to 1940\n",
        "* DIS - weighted distances to five Boston employment centres\n",
        "* RAD - index of accessibility to radial highways\n",
        "* TAX - full-value property-tax rate per \\$10,000\n",
        "* PTRATIO - pupil-teacher ratio by town\n",
        "* B - 1000(Bk - 0.63)^2 where Bk is the proportion of blacks by town\n",
        "* LSTAT - % lower status of the population\n",
        "* MEDV - Median value of owner-occupied homes in $1000's\n",
        "\n",
        "## <b>Here MEDV is the continuous dependent variable.\n",
        "\n",

      ]
    },
    {
      "cell_type": "code",
      "metadata": {
        "colab": {
          "base_uri": "https://localhost:8080/"
        },
        "id": "mUaXjR2m2bh2",
        "outputId": "40993b74-4bae-4064-e692-55cfd0bf55e4"
      },
      "source": [
        "from google.colab import drive\n",
        "drive.mount('/content/drive')"
      ],
      "execution_count": 1,
      "outputs": [
        {
          "output_type": "stream",
          "name": "stdout",
          "text": [
            "Mounted at /content/drive\n"
          ]
        }
      ]
    },
    {
      "cell_type": "code",
      "metadata": {
        "id": "p0gkUooyR6Ix"
      },
      "source": [
        "import pandas as pd\n",
        "import numpy as np\n",
        "\n",
        "import pandas as pd\n",
        "from sklearn.metrics import r2_score,mean_squared_error\n",
        "from sklearn.model_selection import train_test_split\n",
        "from sklearn.tree import DecisionTreeRegressor\n",
        "\n",
        "# import matplotlib.pyplot for plotting our result\n",
        "import matplotlib.pyplot as plt\n",
        "\n",
        "\n"
      ],
      "execution_count": 77,
      "outputs": []
    },
    {
      "cell_type": "code",
      "metadata": {
        "id": "UnRhxUyt3QWv"
      },
      "source": [
        "from sklearn.datasets import load_boston\n",
        "boston_dataset = load_boston()"
      ],
      "execution_count": 12,
      "outputs": []
    },
    {
      "cell_type": "code",
      "metadata": {
        "id": "rqTvY5586Ijm"
      },
      "source": [
        "df = pd.DataFrame(boston_dataset.data, columns=boston_dataset.feature_names)\n"
      ],
      "execution_count": 13,
      "outputs": []
    },
    {
      "cell_type": "code",
      "metadata": {
        "colab": {
          "base_uri": "https://localhost:8080/",
          "height": 419
        },
        "id": "3JsS5TaE6RHq",
        "outputId": "3138ff82-1398-43b2-cc67-d13a2810333b"
      },
      "source": [
        "df"
      ],
      "execution_count": 23,
      "outputs": [
        {
          "output_type": "execute_result",
          "data": {
            "text/html": [
              "<div>\n",
              "<style scoped>\n",
              "    .dataframe tbody tr th:only-of-type {\n",
              "        vertical-align: middle;\n",
              "    }\n",
              "\n",
              "    .dataframe tbody tr th {\n",
              "        vertical-align: top;\n",
              "    }\n",
              "\n",
              "    .dataframe thead th {\n",
              "        text-align: right;\n",
              "    }\n",
              "</style>\n",
              "<table border=\"1\" class=\"dataframe\">\n",
              "  <thead>\n",
              "    <tr style=\"text-align: right;\">\n",
              "      <th></th>\n",
              "      <th>CRIM</th>\n",
              "      <th>ZN</th>\n",
              "      <th>INDUS</th>\n",
              "      <th>CHAS</th>\n",
              "      <th>NOX</th>\n",
              "      <th>RM</th>\n",
              "      <th>AGE</th>\n",
              "      <th>DIS</th>\n",
              "      <th>RAD</th>\n",
              "      <th>TAX</th>\n",
              "      <th>PTRATIO</th>\n",
              "      <th>B</th>\n",
              "      <th>LSTAT</th>\n",
              "      <th>MEDV</th>\n",
              "    </tr>\n",
              "  </thead>\n",
              "  <tbody>\n",
              "    <tr>\n",
              "      <th>0</th>\n",
              "      <td>0.00632</td>\n",
              "      <td>18.0</td>\n",
              "      <td>2.31</td>\n",
              "      <td>0.0</td>\n",
              "      <td>0.538</td>\n",
              "      <td>6.575</td>\n",
              "      <td>65.2</td>\n",
              "      <td>4.0900</td>\n",
              "      <td>1.0</td>\n",
              "      <td>296.0</td>\n",
              "      <td>15.3</td>\n",
              "      <td>396.90</td>\n",
              "      <td>4.98</td>\n",
              "      <td>24.0</td>\n",
              "    </tr>\n",
              "    <tr>\n",
              "      <th>1</th>\n",
              "      <td>0.02731</td>\n",
              "      <td>0.0</td>\n",
              "      <td>7.07</td>\n",
              "      <td>0.0</td>\n",
              "      <td>0.469</td>\n",
              "      <td>6.421</td>\n",
              "      <td>78.9</td>\n",
              "      <td>4.9671</td>\n",
              "      <td>2.0</td>\n",
              "      <td>242.0</td>\n",
              "      <td>17.8</td>\n",
              "      <td>396.90</td>\n",
              "      <td>9.14</td>\n",
              "      <td>21.6</td>\n",
              "    </tr>\n",
              "    <tr>\n",
              "      <th>2</th>\n",
              "      <td>0.02729</td>\n",
              "      <td>0.0</td>\n",
              "      <td>7.07</td>\n",
              "      <td>0.0</td>\n",
              "      <td>0.469</td>\n",
              "      <td>7.185</td>\n",
              "      <td>61.1</td>\n",
              "      <td>4.9671</td>\n",
              "      <td>2.0</td>\n",
              "      <td>242.0</td>\n",
              "      <td>17.8</td>\n",
              "      <td>392.83</td>\n",
              "      <td>4.03</td>\n",
              "      <td>34.7</td>\n",
              "    </tr>\n",
              "    <tr>\n",
              "      <th>3</th>\n",
              "      <td>0.03237</td>\n",
              "      <td>0.0</td>\n",
              "      <td>2.18</td>\n",
              "      <td>0.0</td>\n",
              "      <td>0.458</td>\n",
              "      <td>6.998</td>\n",
              "      <td>45.8</td>\n",
              "      <td>6.0622</td>\n",
              "      <td>3.0</td>\n",
              "      <td>222.0</td>\n",
              "      <td>18.7</td>\n",
              "      <td>394.63</td>\n",
              "      <td>2.94</td>\n",
              "      <td>33.4</td>\n",
              "    </tr>\n",
              "    <tr>\n",
              "      <th>4</th>\n",
              "      <td>0.06905</td>\n",
              "      <td>0.0</td>\n",
              "      <td>2.18</td>\n",
              "      <td>0.0</td>\n",
              "      <td>0.458</td>\n",
              "      <td>7.147</td>\n",
              "      <td>54.2</td>\n",
              "      <td>6.0622</td>\n",
              "      <td>3.0</td>\n",
              "      <td>222.0</td>\n",
              "      <td>18.7</td>\n",
              "      <td>396.90</td>\n",
              "      <td>5.33</td>\n",
              "      <td>36.2</td>\n",
              "    </tr>\n",
              "    <tr>\n",
              "      <th>...</th>\n",
              "      <td>...</td>\n",
              "      <td>...</td>\n",
              "      <td>...</td>\n",
              "      <td>...</td>\n",
              "      <td>...</td>\n",
              "      <td>...</td>\n",
              "      <td>...</td>\n",
              "      <td>...</td>\n",
              "      <td>...</td>\n",
              "      <td>...</td>\n",
              "      <td>...</td>\n",
              "      <td>...</td>\n",
              "      <td>...</td>\n",
              "      <td>...</td>\n",
              "    </tr>\n",
              "    <tr>\n",
              "      <th>501</th>\n",
              "      <td>0.06263</td>\n",
              "      <td>0.0</td>\n",
              "      <td>11.93</td>\n",
              "      <td>0.0</td>\n",
              "      <td>0.573</td>\n",
              "      <td>6.593</td>\n",
              "      <td>69.1</td>\n",
              "      <td>2.4786</td>\n",
              "      <td>1.0</td>\n",
              "      <td>273.0</td>\n",
              "      <td>21.0</td>\n",
              "      <td>391.99</td>\n",
              "      <td>9.67</td>\n",
              "      <td>22.4</td>\n",
              "    </tr>\n",
              "    <tr>\n",
              "      <th>502</th>\n",
              "      <td>0.04527</td>\n",
              "      <td>0.0</td>\n",
              "      <td>11.93</td>\n",
              "      <td>0.0</td>\n",
              "      <td>0.573</td>\n",
              "      <td>6.120</td>\n",
              "      <td>76.7</td>\n",
              "      <td>2.2875</td>\n",
              "      <td>1.0</td>\n",
              "      <td>273.0</td>\n",
              "      <td>21.0</td>\n",
              "      <td>396.90</td>\n",
              "      <td>9.08</td>\n",
              "      <td>20.6</td>\n",
              "    </tr>\n",
              "    <tr>\n",
              "      <th>503</th>\n",
              "      <td>0.06076</td>\n",
              "      <td>0.0</td>\n",
              "      <td>11.93</td>\n",
              "      <td>0.0</td>\n",
              "      <td>0.573</td>\n",
              "      <td>6.976</td>\n",
              "      <td>91.0</td>\n",
              "      <td>2.1675</td>\n",
              "      <td>1.0</td>\n",
              "      <td>273.0</td>\n",
              "      <td>21.0</td>\n",
              "      <td>396.90</td>\n",
              "      <td>5.64</td>\n",
              "      <td>23.9</td>\n",
              "    </tr>\n",
              "    <tr>\n",
              "      <th>504</th>\n",
              "      <td>0.10959</td>\n",
              "      <td>0.0</td>\n",
              "      <td>11.93</td>\n",
              "      <td>0.0</td>\n",
              "      <td>0.573</td>\n",
              "      <td>6.794</td>\n",
              "      <td>89.3</td>\n",
              "      <td>2.3889</td>\n",
              "      <td>1.0</td>\n",
              "      <td>273.0</td>\n",
              "      <td>21.0</td>\n",
              "      <td>393.45</td>\n",
              "      <td>6.48</td>\n",
              "      <td>22.0</td>\n",
              "    </tr>\n",
              "    <tr>\n",
              "      <th>505</th>\n",
              "      <td>0.04741</td>\n",
              "      <td>0.0</td>\n",
              "      <td>11.93</td>\n",
              "      <td>0.0</td>\n",
              "      <td>0.573</td>\n",
              "      <td>6.030</td>\n",
              "      <td>80.8</td>\n",
              "      <td>2.5050</td>\n",
              "      <td>1.0</td>\n",
              "      <td>273.0</td>\n",
              "      <td>21.0</td>\n",
              "      <td>396.90</td>\n",
              "      <td>7.88</td>\n",
              "      <td>11.9</td>\n",
              "    </tr>\n",
              "  </tbody>\n",
              "</table>\n",
              "<p>506 rows × 14 columns</p>\n",
              "</div>"
            ],
            "text/plain": [
              "        CRIM    ZN  INDUS  CHAS    NOX  ...    TAX  PTRATIO       B  LSTAT  MEDV\n",
              "0    0.00632  18.0   2.31   0.0  0.538  ...  296.0     15.3  396.90   4.98  24.0\n",
              "1    0.02731   0.0   7.07   0.0  0.469  ...  242.0     17.8  396.90   9.14  21.6\n",
              "2    0.02729   0.0   7.07   0.0  0.469  ...  242.0     17.8  392.83   4.03  34.7\n",
              "3    0.03237   0.0   2.18   0.0  0.458  ...  222.0     18.7  394.63   2.94  33.4\n",
              "4    0.06905   0.0   2.18   0.0  0.458  ...  222.0     18.7  396.90   5.33  36.2\n",
              "..       ...   ...    ...   ...    ...  ...    ...      ...     ...    ...   ...\n",
              "501  0.06263   0.0  11.93   0.0  0.573  ...  273.0     21.0  391.99   9.67  22.4\n",
              "502  0.04527   0.0  11.93   0.0  0.573  ...  273.0     21.0  396.90   9.08  20.6\n",
              "503  0.06076   0.0  11.93   0.0  0.573  ...  273.0     21.0  396.90   5.64  23.9\n",
              "504  0.10959   0.0  11.93   0.0  0.573  ...  273.0     21.0  393.45   6.48  22.0\n",
              "505  0.04741   0.0  11.93   0.0  0.573  ...  273.0     21.0  396.90   7.88  11.9\n",
              "\n",
              "[506 rows x 14 columns]"
            ]
          },
          "metadata": {},
          "execution_count": 23
        }
      ]
    },
    {
      "cell_type": "code",
      "metadata": {
        "id": "y8CXe05h6SZK"
      },
      "source": [
        "df['MEDV'] = boston_dataset.target\n"
      ],
      "execution_count": 15,
      "outputs": []
    },
    {
      "cell_type": "code",
      "metadata": {
        "colab": {
          "base_uri": "https://localhost:8080/",
          "height": 80
        },
        "id": "BPVHfF528UFl",
        "outputId": "6b19ea15-9e55-41ca-a2af-8b76d9c61d1c"
      },
      "source": [
        "df.head(1)"
      ],
      "execution_count": 16,
      "outputs": [
        {
          "output_type": "execute_result",
          "data": {
            "text/html": [
              "<div>\n",
              "<style scoped>\n",
              "    .dataframe tbody tr th:only-of-type {\n",
              "        vertical-align: middle;\n",
              "    }\n",
              "\n",
              "    .dataframe tbody tr th {\n",
              "        vertical-align: top;\n",
              "    }\n",
              "\n",
              "    .dataframe thead th {\n",
              "        text-align: right;\n",
              "    }\n",
              "</style>\n",
              "<table border=\"1\" class=\"dataframe\">\n",
              "  <thead>\n",
              "    <tr style=\"text-align: right;\">\n",
              "      <th></th>\n",
              "      <th>CRIM</th>\n",
              "      <th>ZN</th>\n",
              "      <th>INDUS</th>\n",
              "      <th>CHAS</th>\n",
              "      <th>NOX</th>\n",
              "      <th>RM</th>\n",
              "      <th>AGE</th>\n",
              "      <th>DIS</th>\n",
              "      <th>RAD</th>\n",
              "      <th>TAX</th>\n",
              "      <th>PTRATIO</th>\n",
              "      <th>B</th>\n",
              "      <th>LSTAT</th>\n",
              "      <th>MEDV</th>\n",
              "    </tr>\n",
              "  </thead>\n",
              "  <tbody>\n",
              "    <tr>\n",
              "      <th>0</th>\n",
              "      <td>0.00632</td>\n",
              "      <td>18.0</td>\n",
              "      <td>2.31</td>\n",
              "      <td>0.0</td>\n",
              "      <td>0.538</td>\n",
              "      <td>6.575</td>\n",
              "      <td>65.2</td>\n",
              "      <td>4.09</td>\n",
              "      <td>1.0</td>\n",
              "      <td>296.0</td>\n",
              "      <td>15.3</td>\n",
              "      <td>396.9</td>\n",
              "      <td>4.98</td>\n",
              "      <td>24.0</td>\n",
              "    </tr>\n",
              "  </tbody>\n",
              "</table>\n",
              "</div>"
            ],
            "text/plain": [
              "      CRIM    ZN  INDUS  CHAS    NOX  ...    TAX  PTRATIO      B  LSTAT  MEDV\n",
              "0  0.00632  18.0   2.31   0.0  0.538  ...  296.0     15.3  396.9   4.98  24.0\n",
              "\n",
              "[1 rows x 14 columns]"
            ]
          },
          "metadata": {},
          "execution_count": 16
        }
      ]
    },
    {
      "cell_type": "code",
      "metadata": {
        "colab": {
          "base_uri": "https://localhost:8080/"
        },
        "id": "Uxw4Dgt88XHy",
        "outputId": "20be1586-01dc-419c-e4b5-4ad9929ece97"
      },
      "source": [
        "len(df[df.duplicated()])"
      ],
      "execution_count": 19,
      "outputs": [
        {
          "output_type": "execute_result",
          "data": {
            "text/plain": [
              "0"
            ]
          },
          "metadata": {},
          "execution_count": 19
        }
      ]
    },
    {
      "cell_type": "code",
      "metadata": {
        "colab": {
          "base_uri": "https://localhost:8080/"
        },
        "id": "zn0MmvYZ_KYW",
        "outputId": "b8e8de74-974b-4e5f-e29f-76f55a714156"
      },
      "source": [
        "df.isnull().count()"
      ],
      "execution_count": 22,
      "outputs": [
        {
          "output_type": "execute_result",
          "data": {
            "text/plain": [
              "CRIM       506\n",
              "ZN         506\n",
              "INDUS      506\n",
              "CHAS       506\n",
              "NOX        506\n",
              "RM         506\n",
              "AGE        506\n",
              "DIS        506\n",
              "RAD        506\n",
              "TAX        506\n",
              "PTRATIO    506\n",
              "B          506\n",
              "LSTAT      506\n",
              "MEDV       506\n",
              "dtype: int64"
            ]
          },
          "metadata": {},
          "execution_count": 22
        }
      ]
    },
    {
      "cell_type": "code",
      "metadata": {
        "colab": {
          "base_uri": "https://localhost:8080/"
        },
        "id": "o1K8jAmQ_ZYY",
        "outputId": "41445754-0faa-43c8-d0e7-07122c6fff25"
      },
      "source": [
        "df.describe().columns"
      ],
      "execution_count": 36,
      "outputs": [
        {
          "output_type": "execute_result",
          "data": {
            "text/plain": [
              "Index(['CRIM', 'ZN', 'INDUS', 'CHAS', 'NOX', 'RM', 'AGE', 'DIS', 'RAD', 'TAX',\n",
              "       'PTRATIO', 'B', 'LSTAT', 'MEDV'],\n",
              "      dtype='object')"
            ]
          },
          "metadata": {},
          "execution_count": 36
        }
      ]
    },
    {
      "cell_type": "code",
      "metadata": {
        "colab": {
          "base_uri": "https://localhost:8080/",
          "height": 297
        },
        "id": "Vr4CTRW0_oSo",
        "outputId": "0dc7f4ac-e132-4f6f-acca-de86c6ee6c21"
      },
      "source": [
        "df.describe()"
      ],
      "execution_count": 27,
      "outputs": [
        {
          "output_type": "execute_result",
          "data": {
            "text/html": [
              "<div>\n",
              "<style scoped>\n",
              "    .dataframe tbody tr th:only-of-type {\n",
              "        vertical-align: middle;\n",
              "    }\n",
              "\n",
              "    .dataframe tbody tr th {\n",
              "        vertical-align: top;\n",
              "    }\n",
              "\n",
              "    .dataframe thead th {\n",
              "        text-align: right;\n",
              "    }\n",
              "</style>\n",
              "<table border=\"1\" class=\"dataframe\">\n",
              "  <thead>\n",
              "    <tr style=\"text-align: right;\">\n",
              "      <th></th>\n",
              "      <th>CRIM</th>\n",
              "      <th>ZN</th>\n",
              "      <th>INDUS</th>\n",
              "      <th>CHAS</th>\n",
              "      <th>NOX</th>\n",
              "      <th>RM</th>\n",
              "      <th>AGE</th>\n",
              "      <th>DIS</th>\n",
              "      <th>RAD</th>\n",
              "      <th>TAX</th>\n",
              "      <th>PTRATIO</th>\n",
              "      <th>B</th>\n",
              "      <th>LSTAT</th>\n",
              "      <th>MEDV</th>\n",
              "    </tr>\n",
              "  </thead>\n",
              "  <tbody>\n",
              "    <tr>\n",
              "      <th>count</th>\n",
              "      <td>506.000000</td>\n",
              "      <td>506.000000</td>\n",
              "      <td>506.000000</td>\n",
              "      <td>506.000000</td>\n",
              "      <td>506.000000</td>\n",
              "      <td>506.000000</td>\n",
              "      <td>506.000000</td>\n",
              "      <td>506.000000</td>\n",
              "      <td>506.000000</td>\n",
              "      <td>506.000000</td>\n",
              "      <td>506.000000</td>\n",
              "      <td>506.000000</td>\n",
              "      <td>506.000000</td>\n",
              "      <td>506.000000</td>\n",
              "    </tr>\n",
              "    <tr>\n",
              "      <th>mean</th>\n",
              "      <td>3.613524</td>\n",
              "      <td>11.363636</td>\n",
              "      <td>11.136779</td>\n",
              "      <td>0.069170</td>\n",
              "      <td>0.554695</td>\n",
              "      <td>6.284634</td>\n",
              "      <td>68.574901</td>\n",
              "      <td>3.795043</td>\n",
              "      <td>9.549407</td>\n",
              "      <td>408.237154</td>\n",
              "      <td>18.455534</td>\n",
              "      <td>356.674032</td>\n",
              "      <td>12.653063</td>\n",
              "      <td>22.532806</td>\n",
              "    </tr>\n",
              "    <tr>\n",
              "      <th>std</th>\n",
              "      <td>8.601545</td>\n",
              "      <td>23.322453</td>\n",
              "      <td>6.860353</td>\n",
              "      <td>0.253994</td>\n",
              "      <td>0.115878</td>\n",
              "      <td>0.702617</td>\n",
              "      <td>28.148861</td>\n",
              "      <td>2.105710</td>\n",
              "      <td>8.707259</td>\n",
              "      <td>168.537116</td>\n",
              "      <td>2.164946</td>\n",
              "      <td>91.294864</td>\n",
              "      <td>7.141062</td>\n",
              "      <td>9.197104</td>\n",
              "    </tr>\n",
              "    <tr>\n",
              "      <th>min</th>\n",
              "      <td>0.006320</td>\n",
              "      <td>0.000000</td>\n",
              "      <td>0.460000</td>\n",
              "      <td>0.000000</td>\n",
              "      <td>0.385000</td>\n",
              "      <td>3.561000</td>\n",
              "      <td>2.900000</td>\n",
              "      <td>1.129600</td>\n",
              "      <td>1.000000</td>\n",
              "      <td>187.000000</td>\n",
              "      <td>12.600000</td>\n",
              "      <td>0.320000</td>\n",
              "      <td>1.730000</td>\n",
              "      <td>5.000000</td>\n",
              "    </tr>\n",
              "    <tr>\n",
              "      <th>25%</th>\n",
              "      <td>0.082045</td>\n",
              "      <td>0.000000</td>\n",
              "      <td>5.190000</td>\n",
              "      <td>0.000000</td>\n",
              "      <td>0.449000</td>\n",
              "      <td>5.885500</td>\n",
              "      <td>45.025000</td>\n",
              "      <td>2.100175</td>\n",
              "      <td>4.000000</td>\n",
              "      <td>279.000000</td>\n",
              "      <td>17.400000</td>\n",
              "      <td>375.377500</td>\n",
              "      <td>6.950000</td>\n",
              "      <td>17.025000</td>\n",
              "    </tr>\n",
              "    <tr>\n",
              "      <th>50%</th>\n",
              "      <td>0.256510</td>\n",
              "      <td>0.000000</td>\n",
              "      <td>9.690000</td>\n",
              "      <td>0.000000</td>\n",
              "      <td>0.538000</td>\n",
              "      <td>6.208500</td>\n",
              "      <td>77.500000</td>\n",
              "      <td>3.207450</td>\n",
              "      <td>5.000000</td>\n",
              "      <td>330.000000</td>\n",
              "      <td>19.050000</td>\n",
              "      <td>391.440000</td>\n",
              "      <td>11.360000</td>\n",
              "      <td>21.200000</td>\n",
              "    </tr>\n",
              "    <tr>\n",
              "      <th>75%</th>\n",
              "      <td>3.677083</td>\n",
              "      <td>12.500000</td>\n",
              "      <td>18.100000</td>\n",
              "      <td>0.000000</td>\n",
              "      <td>0.624000</td>\n",
              "      <td>6.623500</td>\n",
              "      <td>94.075000</td>\n",
              "      <td>5.188425</td>\n",
              "      <td>24.000000</td>\n",
              "      <td>666.000000</td>\n",
              "      <td>20.200000</td>\n",
              "      <td>396.225000</td>\n",
              "      <td>16.955000</td>\n",
              "      <td>25.000000</td>\n",
              "    </tr>\n",
              "    <tr>\n",
              "      <th>max</th>\n",
              "      <td>88.976200</td>\n",
              "      <td>100.000000</td>\n",
              "      <td>27.740000</td>\n",
              "      <td>1.000000</td>\n",
              "      <td>0.871000</td>\n",
              "      <td>8.780000</td>\n",
              "      <td>100.000000</td>\n",
              "      <td>12.126500</td>\n",
              "      <td>24.000000</td>\n",
              "      <td>711.000000</td>\n",
              "      <td>22.000000</td>\n",
              "      <td>396.900000</td>\n",
              "      <td>37.970000</td>\n",
              "      <td>50.000000</td>\n",
              "    </tr>\n",
              "  </tbody>\n",
              "</table>\n",
              "</div>"
            ],
            "text/plain": [
              "             CRIM          ZN       INDUS  ...           B       LSTAT        MEDV\n",
              "count  506.000000  506.000000  506.000000  ...  506.000000  506.000000  506.000000\n",
              "mean     3.613524   11.363636   11.136779  ...  356.674032   12.653063   22.532806\n",
              "std      8.601545   23.322453    6.860353  ...   91.294864    7.141062    9.197104\n",
              "min      0.006320    0.000000    0.460000  ...    0.320000    1.730000    5.000000\n",
              "25%      0.082045    0.000000    5.190000  ...  375.377500    6.950000   17.025000\n",
              "50%      0.256510    0.000000    9.690000  ...  391.440000   11.360000   21.200000\n",
              "75%      3.677083   12.500000   18.100000  ...  396.225000   16.955000   25.000000\n",
              "max     88.976200  100.000000   27.740000  ...  396.900000   37.970000   50.000000\n",
              "\n",
              "[8 rows x 14 columns]"
            ]
          },
          "metadata": {},
          "execution_count": 27
        }
      ]
    },
    {
      "cell_type": "code",
      "metadata": {
        "colab": {
          "base_uri": "https://localhost:8080/"
        },
        "id": "if8aQRIA_002",
        "outputId": "7a232778-3b7c-4d99-da18-9c820cb34632"
      },
      "source": [
        "df.info()"
      ],
      "execution_count": 28,
      "outputs": [
        {
          "output_type": "stream",
          "name": "stdout",
          "text": [
            "<class 'pandas.core.frame.DataFrame'>\n",
            "RangeIndex: 506 entries, 0 to 505\n",
            "Data columns (total 14 columns):\n",
            " #   Column   Non-Null Count  Dtype  \n",
            "---  ------   --------------  -----  \n",
            " 0   CRIM     506 non-null    float64\n",
            " 1   ZN       506 non-null    float64\n",
            " 2   INDUS    506 non-null    float64\n",
            " 3   CHAS     506 non-null    float64\n",
            " 4   NOX      506 non-null    float64\n",
            " 5   RM       506 non-null    float64\n",
            " 6   AGE      506 non-null    float64\n",
            " 7   DIS      506 non-null    float64\n",
            " 8   RAD      506 non-null    float64\n",
            " 9   TAX      506 non-null    float64\n",
            " 10  PTRATIO  506 non-null    float64\n",
            " 11  B        506 non-null    float64\n",
            " 12  LSTAT    506 non-null    float64\n",
            " 13  MEDV     506 non-null    float64\n",
            "dtypes: float64(14)\n",
            "memory usage: 55.5 KB\n"
          ]
        }
      ]
    },
    {
      "cell_type": "code",
      "metadata": {
        "colab": {
          "base_uri": "https://localhost:8080/"
        },
        "id": "0KiJkTjA_1wm",
        "outputId": "34d45714-5533-4d66-e7f7-4524ff9c1a71"
      },
      "source": [
        "df[\"MEDV\"].value_counts()"
      ],
      "execution_count": 33,
      "outputs": [
        {
          "output_type": "execute_result",
          "data": {
            "text/plain": [
              "50.0    16\n",
              "25.0     8\n",
              "23.1     7\n",
              "21.7     7\n",
              "22.0     7\n",
              "        ..\n",
              "12.8     1\n",
              "29.9     1\n",
              "9.6      1\n",
              "36.1     1\n",
              "13.0     1\n",
              "Name: MEDV, Length: 229, dtype: int64"
            ]
          },
          "metadata": {},
          "execution_count": 33
        }
      ]
    },
    {
      "cell_type": "code",
      "metadata": {
        "colab": {
          "base_uri": "https://localhost:8080/"
        },
        "id": "6JvA3BZKACDD",
        "outputId": "803e0b43-adc4-4aa3-886d-5c69bfc8f01a"
      },
      "source": [
        "df.value_counts()"
      ],
      "execution_count": 30,
      "outputs": [
        {
          "output_type": "execute_result",
          "data": {
            "text/plain": [
              "CRIM      ZN    INDUS  CHAS  NOX    RM     AGE    DIS      RAD   TAX    PTRATIO  B       LSTAT  MEDV\n",
              "88.97620  0.0   18.10  0.0   0.671  6.968  91.9   1.4165   24.0  666.0  20.2     396.90  17.21  10.4    1\n",
              "0.12083   0.0   2.89   0.0   0.445  8.069  76.0   3.4952   2.0   276.0  18.0     396.90  4.21   38.7    1\n",
              "0.10612   30.0  4.93   0.0   0.428  6.095  65.1   6.3361   6.0   300.0  16.6     394.62  12.40  20.1    1\n",
              "0.10659   80.0  1.91   0.0   0.413  5.936  19.5   10.5857  4.0   334.0  22.0     376.04  5.57   20.6    1\n",
              "0.10793   0.0   8.56   0.0   0.520  6.195  54.4   2.7778   5.0   384.0  20.9     393.49  13.00  21.7    1\n",
              "                                                                                                       ..\n",
              "1.25179   0.0   8.14   0.0   0.538  5.570  98.1   3.7979   4.0   307.0  21.0     376.57  21.02  13.6    1\n",
              "1.27346   0.0   19.58  1.0   0.605  6.250  92.6   1.7984   5.0   403.0  14.7     338.92  5.50   27.0    1\n",
              "1.34284   0.0   19.58  0.0   0.605  6.066  100.0  1.7573   5.0   403.0  14.7     353.89  6.43   24.3    1\n",
              "1.35472   0.0   8.14   0.0   0.538  6.072  100.0  4.1750   4.0   307.0  21.0     376.73  13.04  14.5    1\n",
              "0.00632   18.0  2.31   0.0   0.538  6.575  65.2   4.0900   1.0   296.0  15.3     396.90  4.98   24.0    1\n",
              "Length: 506, dtype: int64"
            ]
          },
          "metadata": {},
          "execution_count": 30
        }
      ]
    },
    {
      "cell_type": "code",
      "metadata": {
        "id": "jW-fFvhFAEZs"
      },
      "source": [
        "df.dropna(inplace=True)"
      ],
      "execution_count": 34,
      "outputs": []
    },
    {
      "cell_type": "code",
      "metadata": {
        "colab": {
          "base_uri": "https://localhost:8080/",
          "height": 419
        },
        "id": "egICbghsA76p",
        "outputId": "a8dae9cb-a03a-47a4-e59f-f471298308e0"
      },
      "source": [
        "df"
      ],
      "execution_count": 35,
      "outputs": [
        {
          "output_type": "execute_result",
          "data": {
            "text/html": [
              "<div>\n",
              "<style scoped>\n",
              "    .dataframe tbody tr th:only-of-type {\n",
              "        vertical-align: middle;\n",
              "    }\n",
              "\n",
              "    .dataframe tbody tr th {\n",
              "        vertical-align: top;\n",
              "    }\n",
              "\n",
              "    .dataframe thead th {\n",
              "        text-align: right;\n",
              "    }\n",
              "</style>\n",
              "<table border=\"1\" class=\"dataframe\">\n",
              "  <thead>\n",
              "    <tr style=\"text-align: right;\">\n",
              "      <th></th>\n",
              "      <th>CRIM</th>\n",
              "      <th>ZN</th>\n",
              "      <th>INDUS</th>\n",
              "      <th>CHAS</th>\n",
              "      <th>NOX</th>\n",
              "      <th>RM</th>\n",
              "      <th>AGE</th>\n",
              "      <th>DIS</th>\n",
              "      <th>RAD</th>\n",
              "      <th>TAX</th>\n",
              "      <th>PTRATIO</th>\n",
              "      <th>B</th>\n",
              "      <th>LSTAT</th>\n",
              "      <th>MEDV</th>\n",
              "    </tr>\n",
              "  </thead>\n",
              "  <tbody>\n",
              "    <tr>\n",
              "      <th>0</th>\n",
              "      <td>0.00632</td>\n",
              "      <td>18.0</td>\n",
              "      <td>2.31</td>\n",
              "      <td>0.0</td>\n",
              "      <td>0.538</td>\n",
              "      <td>6.575</td>\n",
              "      <td>65.2</td>\n",
              "      <td>4.0900</td>\n",
              "      <td>1.0</td>\n",
              "      <td>296.0</td>\n",
              "      <td>15.3</td>\n",
              "      <td>396.90</td>\n",
              "      <td>4.98</td>\n",
              "      <td>24.0</td>\n",
              "    </tr>\n",
              "    <tr>\n",
              "      <th>1</th>\n",
              "      <td>0.02731</td>\n",
              "      <td>0.0</td>\n",
              "      <td>7.07</td>\n",
              "      <td>0.0</td>\n",
              "      <td>0.469</td>\n",
              "      <td>6.421</td>\n",
              "      <td>78.9</td>\n",
              "      <td>4.9671</td>\n",
              "      <td>2.0</td>\n",
              "      <td>242.0</td>\n",
              "      <td>17.8</td>\n",
              "      <td>396.90</td>\n",
              "      <td>9.14</td>\n",
              "      <td>21.6</td>\n",
              "    </tr>\n",
              "    <tr>\n",
              "      <th>2</th>\n",
              "      <td>0.02729</td>\n",
              "      <td>0.0</td>\n",
              "      <td>7.07</td>\n",
              "      <td>0.0</td>\n",
              "      <td>0.469</td>\n",
              "      <td>7.185</td>\n",
              "      <td>61.1</td>\n",
              "      <td>4.9671</td>\n",
              "      <td>2.0</td>\n",
              "      <td>242.0</td>\n",
              "      <td>17.8</td>\n",
              "      <td>392.83</td>\n",
              "      <td>4.03</td>\n",
              "      <td>34.7</td>\n",
              "    </tr>\n",
              "    <tr>\n",
              "      <th>3</th>\n",
              "      <td>0.03237</td>\n",
              "      <td>0.0</td>\n",
              "      <td>2.18</td>\n",
              "      <td>0.0</td>\n",
              "      <td>0.458</td>\n",
              "      <td>6.998</td>\n",
              "      <td>45.8</td>\n",
              "      <td>6.0622</td>\n",
              "      <td>3.0</td>\n",
              "      <td>222.0</td>\n",
              "      <td>18.7</td>\n",
              "      <td>394.63</td>\n",
              "      <td>2.94</td>\n",
              "      <td>33.4</td>\n",
              "    </tr>\n",
              "    <tr>\n",
              "      <th>4</th>\n",
              "      <td>0.06905</td>\n",
              "      <td>0.0</td>\n",
              "      <td>2.18</td>\n",
              "      <td>0.0</td>\n",
              "      <td>0.458</td>\n",
              "      <td>7.147</td>\n",
              "      <td>54.2</td>\n",
              "      <td>6.0622</td>\n",
              "      <td>3.0</td>\n",
              "      <td>222.0</td>\n",
              "      <td>18.7</td>\n",
              "      <td>396.90</td>\n",
              "      <td>5.33</td>\n",
              "      <td>36.2</td>\n",
              "    </tr>\n",
              "    <tr>\n",
              "      <th>...</th>\n",
              "      <td>...</td>\n",
              "      <td>...</td>\n",
              "      <td>...</td>\n",
              "      <td>...</td>\n",
              "      <td>...</td>\n",
              "      <td>...</td>\n",
              "      <td>...</td>\n",
              "      <td>...</td>\n",
              "      <td>...</td>\n",
              "      <td>...</td>\n",
              "      <td>...</td>\n",
              "      <td>...</td>\n",
              "      <td>...</td>\n",
              "      <td>...</td>\n",
              "    </tr>\n",
              "    <tr>\n",
              "      <th>501</th>\n",
              "      <td>0.06263</td>\n",
              "      <td>0.0</td>\n",
              "      <td>11.93</td>\n",
              "      <td>0.0</td>\n",
              "      <td>0.573</td>\n",
              "      <td>6.593</td>\n",
              "      <td>69.1</td>\n",
              "      <td>2.4786</td>\n",
              "      <td>1.0</td>\n",
              "      <td>273.0</td>\n",
              "      <td>21.0</td>\n",
              "      <td>391.99</td>\n",
              "      <td>9.67</td>\n",
              "      <td>22.4</td>\n",
              "    </tr>\n",
              "    <tr>\n",
              "      <th>502</th>\n",
              "      <td>0.04527</td>\n",
              "      <td>0.0</td>\n",
              "      <td>11.93</td>\n",
              "      <td>0.0</td>\n",
              "      <td>0.573</td>\n",
              "      <td>6.120</td>\n",
              "      <td>76.7</td>\n",
              "      <td>2.2875</td>\n",
              "      <td>1.0</td>\n",
              "      <td>273.0</td>\n",
              "      <td>21.0</td>\n",
              "      <td>396.90</td>\n",
              "      <td>9.08</td>\n",
              "      <td>20.6</td>\n",
              "    </tr>\n",
              "    <tr>\n",
              "      <th>503</th>\n",
              "      <td>0.06076</td>\n",
              "      <td>0.0</td>\n",
              "      <td>11.93</td>\n",
              "      <td>0.0</td>\n",
              "      <td>0.573</td>\n",
              "      <td>6.976</td>\n",
              "      <td>91.0</td>\n",
              "      <td>2.1675</td>\n",
              "      <td>1.0</td>\n",
              "      <td>273.0</td>\n",
              "      <td>21.0</td>\n",
              "      <td>396.90</td>\n",
              "      <td>5.64</td>\n",
              "      <td>23.9</td>\n",
              "    </tr>\n",
              "    <tr>\n",
              "      <th>504</th>\n",
              "      <td>0.10959</td>\n",
              "      <td>0.0</td>\n",
              "      <td>11.93</td>\n",
              "      <td>0.0</td>\n",
              "      <td>0.573</td>\n",
              "      <td>6.794</td>\n",
              "      <td>89.3</td>\n",
              "      <td>2.3889</td>\n",
              "      <td>1.0</td>\n",
              "      <td>273.0</td>\n",
              "      <td>21.0</td>\n",
              "      <td>393.45</td>\n",
              "      <td>6.48</td>\n",
              "      <td>22.0</td>\n",
              "    </tr>\n",
              "    <tr>\n",
              "      <th>505</th>\n",
              "      <td>0.04741</td>\n",
              "      <td>0.0</td>\n",
              "      <td>11.93</td>\n",
              "      <td>0.0</td>\n",
              "      <td>0.573</td>\n",
              "      <td>6.030</td>\n",
              "      <td>80.8</td>\n",
              "      <td>2.5050</td>\n",
              "      <td>1.0</td>\n",
              "      <td>273.0</td>\n",
              "      <td>21.0</td>\n",
              "      <td>396.90</td>\n",
              "      <td>7.88</td>\n",
              "      <td>11.9</td>\n",
              "    </tr>\n",
              "  </tbody>\n",
              "</table>\n",
              "<p>506 rows × 14 columns</p>\n",
              "</div>"
            ],
            "text/plain": [
              "        CRIM    ZN  INDUS  CHAS    NOX  ...    TAX  PTRATIO       B  LSTAT  MEDV\n",
              "0    0.00632  18.0   2.31   0.0  0.538  ...  296.0     15.3  396.90   4.98  24.0\n",
              "1    0.02731   0.0   7.07   0.0  0.469  ...  242.0     17.8  396.90   9.14  21.6\n",
              "2    0.02729   0.0   7.07   0.0  0.469  ...  242.0     17.8  392.83   4.03  34.7\n",
              "3    0.03237   0.0   2.18   0.0  0.458  ...  222.0     18.7  394.63   2.94  33.4\n",
              "4    0.06905   0.0   2.18   0.0  0.458  ...  222.0     18.7  396.90   5.33  36.2\n",
              "..       ...   ...    ...   ...    ...  ...    ...      ...     ...    ...   ...\n",
              "501  0.06263   0.0  11.93   0.0  0.573  ...  273.0     21.0  391.99   9.67  22.4\n",
              "502  0.04527   0.0  11.93   0.0  0.573  ...  273.0     21.0  396.90   9.08  20.6\n",
              "503  0.06076   0.0  11.93   0.0  0.573  ...  273.0     21.0  396.90   5.64  23.9\n",
              "504  0.10959   0.0  11.93   0.0  0.573  ...  273.0     21.0  393.45   6.48  22.0\n",
              "505  0.04741   0.0  11.93   0.0  0.573  ...  273.0     21.0  396.90   7.88  11.9\n",
              "\n",
              "[506 rows x 14 columns]"
            ]
          },
          "metadata": {},
          "execution_count": 35
        }
      ]
    },
    {
      "cell_type": "code",
      "metadata": {
        "id": "m524Sb19A99e"
      },
      "source": [
        "dependent_var = \"MEDV\"\n",
        "independent_var = ['CRIM', 'ZN', 'INDUS', 'CHAS', 'NOX', 'RM', 'AGE', 'DIS', 'RAD', 'TAX','PTRATIO', 'B', 'LSTAT']"
      ],
      "execution_count": 37,
      "outputs": []
    },
    {
      "cell_type": "code",
      "metadata": {
        "id": "VKhNlOSVBVaF"
      },
      "source": [
        "X = df[independent_var]"
      ],
      "execution_count": 39,
      "outputs": []
    },
    {
      "cell_type": "code",
      "metadata": {
        "id": "4SsuMSIuBcA9"
      },
      "source": [
        "y = df[dependent_var]"
      ],
      "execution_count": 40,
      "outputs": []
    },
    {
      "cell_type": "code",
      "metadata": {
        "id": "bD8xEQT0Bg2l"
      },
      "source": [
        " X_train,X_test,y_train,y_test = train_test_split(X,y,test_size=0.20, random_state=324)"
      ],
      "execution_count": 47,
      "outputs": []
    },
    {
      "cell_type": "code",
      "metadata": {
        "colab": {
          "base_uri": "https://localhost:8080/"
        },
        "id": "xOcccMfzB193",
        "outputId": "8b38f39c-4821-405b-8db6-59cc0af0b8ce"
      },
      "source": [
        "X_train.shape"
      ],
      "execution_count": 48,
      "outputs": [
        {
          "output_type": "execute_result",
          "data": {
            "text/plain": [
              "(404, 13)"
            ]
          },
          "metadata": {},
          "execution_count": 48
        }
      ]
    },
    {
      "cell_type": "code",
      "metadata": {
        "colab": {
          "base_uri": "https://localhost:8080/"
        },
        "id": "MvRK-wvKCHGx",
        "outputId": "34565c92-cb69-42d8-8770-8608177c5054"
      },
      "source": [
        "X_test.shape"
      ],
      "execution_count": 49,
      "outputs": [
        {
          "output_type": "execute_result",
          "data": {
            "text/plain": [
              "(102, 13)"
            ]
          },
          "metadata": {},
          "execution_count": 49
        }
      ]
    },
    {
      "cell_type": "code",
      "metadata": {
        "id": "dHGupAyiCKhp"
      },
      "source": [
        "clf = DecisionTreeRegressor(criterion='mse',max_leaf_nodes=10, random_state=0, )\n"
      ],
      "execution_count": 59,
      "outputs": []
    },
    {
      "cell_type": "code",
      "metadata": {
        "colab": {
          "base_uri": "https://localhost:8080/"
        },
        "id": "eyQX255EEoJS",
        "outputId": "84248969-06a3-41b1-efb5-19ba8ca6c35f"
      },
      "source": [
        "clf.fit(X_train,y_train)"
      ],
      "execution_count": 60,
      "outputs": [
        {
          "output_type": "execute_result",
          "data": {
            "text/plain": [
              "DecisionTreeRegressor(ccp_alpha=0.0, criterion='mse', max_depth=None,\n",
              "                      max_features=None, max_leaf_nodes=10,\n",
              "                      min_impurity_decrease=0.0, min_impurity_split=None,\n",
              "                      min_samples_leaf=1, min_samples_split=2,\n",
              "                      min_weight_fraction_leaf=0.0, presort='deprecated',\n",
              "                      random_state=0, splitter='best')"
            ]
          },
          "metadata": {},
          "execution_count": 60
        }
      ]
    },
    {
      "cell_type": "code",
      "metadata": {
        "id": "nmedzsHWE4z7"
      },
      "source": [
        "y_pred = clf.predict(X_test)"
      ],
      "execution_count": 61,
      "outputs": []
    },
    {
      "cell_type": "code",
      "metadata": {
        "colab": {
          "base_uri": "https://localhost:8080/"
        },
        "id": "wES6Iau-QuXB",
        "outputId": "decb3d74-55a3-4d5c-aefb-5db494e44206"
      },
      "source": [
        "y_pred"
      ],
      "execution_count": 62,
      "outputs": [
        {
          "output_type": "execute_result",
          "data": {
            "text/plain": [
              "array([47.23684211, 21.18734177, 12.8255814 , 12.8255814 , 21.18734177,\n",
              "       47.23684211, 21.18734177, 32.58235294, 12.8255814 , 47.23684211,\n",
              "       47.23684211, 17.98181818, 25.28      , 31.19411765, 21.18734177,\n",
              "       31.19411765, 12.8255814 , 21.18734177, 32.58235294, 17.98181818,\n",
              "       21.18734177, 17.98181818, 17.98181818, 21.18734177, 21.18734177,\n",
              "       17.98181818, 21.18734177, 25.28      , 12.8255814 , 21.18734177,\n",
              "       12.8255814 , 21.18734177, 32.58235294, 21.18734177, 12.8255814 ,\n",
              "       12.8255814 , 12.8255814 , 17.98181818, 25.28      , 47.23684211,\n",
              "       31.19411765, 31.19411765, 17.98181818, 21.18734177, 12.8255814 ,\n",
              "       31.19411765, 12.8255814 , 31.19411765, 25.28      , 12.8255814 ,\n",
              "       21.18734177, 17.98181818, 32.58235294, 21.18734177, 25.28      ,\n",
              "       25.28      , 25.28      , 21.18734177, 21.18734177, 12.8255814 ,\n",
              "       17.98181818, 31.19411765, 17.98181818, 31.19411765, 12.8255814 ,\n",
              "       21.18734177, 12.8255814 , 21.18734177, 17.98181818, 17.98181818,\n",
              "       31.19411765, 21.18734177, 21.18734177, 21.18734177, 31.19411765,\n",
              "       21.18734177, 21.18734177, 21.18734177, 17.98181818, 31.19411765,\n",
              "       32.58235294, 21.18734177, 12.8255814 , 21.18734177, 31.19411765,\n",
              "       21.18734177, 21.18734177, 31.19411765, 21.18734177, 21.18734177,\n",
              "       25.28      , 12.8255814 , 17.98181818, 21.18734177, 32.58235294,\n",
              "       25.28      , 31.19411765, 21.18734177, 12.8255814 , 21.18734177,\n",
              "       25.28      , 21.18734177])"
            ]
          },
          "metadata": {},
          "execution_count": 62
        }
      ]
    },
    {
      "cell_type": "code",
      "metadata": {
        "colab": {
          "base_uri": "https://localhost:8080/"
        },
        "id": "YLGR0EDZQvhP",
        "outputId": "f0c20054-2882-47ee-e920-3f63962eaad4"
      },
      "source": [
        "r2_score(y_test, y_pred)"
      ],
      "execution_count": 66,
      "outputs": [
        {
          "output_type": "execute_result",
          "data": {
            "text/plain": [
              "0.7720137504781245"
            ]
          },
          "metadata": {},
          "execution_count": 66
        }
      ]
    },
    {
      "cell_type": "code",
      "metadata": {
        "id": "dofXvasHQ5ob"
      },
      "source": [
        "mse = mean_squared_error(y_test, y_pred)"
      ],
      "execution_count": 69,
      "outputs": []
    },
    {
      "cell_type": "code",
      "metadata": {
        "id": "1YLYrMYTRffg"
      },
      "source": [
        "rmse = np.sqrt(mse)"
      ],
      "execution_count": 70,
      "outputs": []
    },
    {
      "cell_type": "code",
      "metadata": {
        "colab": {
          "base_uri": "https://localhost:8080/"
        },
        "id": "RxBN1mtKSBBS",
        "outputId": "6de5fc22-f19b-49db-9020-7da46a08ef46"
      },
      "source": [
        "print(rmse)"
      ],
      "execution_count": 71,
      "outputs": [
        {
          "output_type": "stream",
          "name": "stdout",
          "text": [
            "4.376020143087073\n"
          ]
        }
      ]
    },
    {
      "cell_type": "code",
      "metadata": {
        "colab": {
          "base_uri": "https://localhost:8080/"
        },
        "id": "OBywJOwxSHYn",
        "outputId": "6fc20f96-c7fa-4669-82b5-7c3b2853f643"
      },
      "source": [
        "print(mse)"
      ],
      "execution_count": 72,
      "outputs": [
        {
          "output_type": "stream",
          "name": "stdout",
          "text": [
            "19.14955229270381\n"
          ]
        }
      ]
    },
    {
      "cell_type": "code",
      "metadata": {
        "id": "J0NLZ7M-SIYn"
      },
      "source": [
        "from sklearn.tree import DecisionTreeClassifier, export_graphviz\n",
        "from sklearn import tree\n",
        "from IPython.display import SVG\n",
        "from graphviz import Source\n",
        "from IPython.display import display"
      ],
      "execution_count": 73,
      "outputs": []
    },
    {
      "cell_type": "code",
      "metadata": {
        "colab": {
          "base_uri": "https://localhost:8080/",
          "height": 296
        },
        "id": "So3TGS3VSmBl",
        "outputId": "cbb25dbd-45cd-4032-d2df-aecfba4ea19b"
      },
      "source": [
        "\n",
        "plt.plot(y_pred, color = 'blue')\n",
        "\n",
        "# specify title\n",
        "plt.title('Profit to Production Cost (Decision Tree Regression)')\n",
        "\n",
        "# specify X axis label\n",
        "plt.xlabel('independent_var')\n",
        "\n",
        "# specify Y axis label\n",
        "plt.ylabel('MEDV')\n",
        "\n",
        "# show the plot\n",
        "plt.show()\n"
      ],
      "execution_count": 78,
      "outputs": [
        {
          "output_type": "display_data",
          "data": {
            "image/png": "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\n",
            "text/plain": [
              "<Figure size 432x288 with 1 Axes>"
            ]
          },
          "metadata": {
            "needs_background": "light"
          }
        }
      ]
    },
    {
      "cell_type": "code",
      "metadata": {
        "id": "23i9kcMHS4E1"
      },
      "source": [
        ""
      ],
      "execution_count": null,
      "outputs": []
    }
  ]
}
